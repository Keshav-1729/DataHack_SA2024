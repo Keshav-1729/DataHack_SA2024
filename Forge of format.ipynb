{
 "cells": [
  {
   "cell_type": "code",
   "execution_count": 1,
   "id": "671ea708",
   "metadata": {},
   "outputs": [],
   "source": [
    "import pandas as pd\n",
    "import numpy as np"
   ]
  },
  {
   "cell_type": "code",
   "execution_count": 14,
   "id": "ba043791",
   "metadata": {},
   "outputs": [],
   "source": [
    "a=pd.read_csv('test_set_features.csv')\n",
    "a=a['respondent_id']"
   ]
  },
  {
   "cell_type": "code",
   "execution_count": 15,
   "id": "3045a826",
   "metadata": {},
   "outputs": [],
   "source": [
    "b=pd.read_csv('final_sub.csv')\n",
    "b=b['seasonal_vaccine']"
   ]
  },
  {
   "cell_type": "code",
   "execution_count": 16,
   "id": "a9955c54",
   "metadata": {},
   "outputs": [],
   "source": [
    "c=pd.read_csv('final_sub1.csv')\n",
    "c=c['xyz_vaccine']"
   ]
  },
  {
   "cell_type": "code",
   "execution_count": 17,
   "id": "6d36ffec",
   "metadata": {},
   "outputs": [],
   "source": [
    "df=pd.DataFrame({'respondent_id':a,'seasonal_vaccine':b,'xyz_vaccine':c})"
   ]
  },
  {
   "cell_type": "code",
   "execution_count": 18,
   "id": "ff24de5a",
   "metadata": {},
   "outputs": [
    {
     "data": {
      "text/html": [
       "<div>\n",
       "<style scoped>\n",
       "    .dataframe tbody tr th:only-of-type {\n",
       "        vertical-align: middle;\n",
       "    }\n",
       "\n",
       "    .dataframe tbody tr th {\n",
       "        vertical-align: top;\n",
       "    }\n",
       "\n",
       "    .dataframe thead th {\n",
       "        text-align: right;\n",
       "    }\n",
       "</style>\n",
       "<table border=\"1\" class=\"dataframe\">\n",
       "  <thead>\n",
       "    <tr style=\"text-align: right;\">\n",
       "      <th></th>\n",
       "      <th>respondent_id</th>\n",
       "      <th>seasonal_vaccine</th>\n",
       "      <th>xyz_vaccine</th>\n",
       "    </tr>\n",
       "  </thead>\n",
       "  <tbody>\n",
       "    <tr>\n",
       "      <th>0</th>\n",
       "      <td>26707</td>\n",
       "      <td>0.175622</td>\n",
       "      <td>0.185586</td>\n",
       "    </tr>\n",
       "    <tr>\n",
       "      <th>1</th>\n",
       "      <td>26708</td>\n",
       "      <td>0.127380</td>\n",
       "      <td>0.182816</td>\n",
       "    </tr>\n",
       "    <tr>\n",
       "      <th>2</th>\n",
       "      <td>26709</td>\n",
       "      <td>0.836426</td>\n",
       "      <td>0.188581</td>\n",
       "    </tr>\n",
       "    <tr>\n",
       "      <th>3</th>\n",
       "      <td>26710</td>\n",
       "      <td>0.794434</td>\n",
       "      <td>0.186252</td>\n",
       "    </tr>\n",
       "    <tr>\n",
       "      <th>4</th>\n",
       "      <td>26711</td>\n",
       "      <td>0.644058</td>\n",
       "      <td>0.432058</td>\n",
       "    </tr>\n",
       "    <tr>\n",
       "      <th>...</th>\n",
       "      <td>...</td>\n",
       "      <td>...</td>\n",
       "      <td>...</td>\n",
       "    </tr>\n",
       "    <tr>\n",
       "      <th>26703</th>\n",
       "      <td>53410</td>\n",
       "      <td>0.203209</td>\n",
       "      <td>0.185839</td>\n",
       "    </tr>\n",
       "    <tr>\n",
       "      <th>26704</th>\n",
       "      <td>53411</td>\n",
       "      <td>0.402141</td>\n",
       "      <td>0.236717</td>\n",
       "    </tr>\n",
       "    <tr>\n",
       "      <th>26705</th>\n",
       "      <td>53412</td>\n",
       "      <td>0.219979</td>\n",
       "      <td>0.185077</td>\n",
       "    </tr>\n",
       "    <tr>\n",
       "      <th>26706</th>\n",
       "      <td>53413</td>\n",
       "      <td>0.483645</td>\n",
       "      <td>0.178579</td>\n",
       "    </tr>\n",
       "    <tr>\n",
       "      <th>26707</th>\n",
       "      <td>53414</td>\n",
       "      <td>0.766149</td>\n",
       "      <td>0.188031</td>\n",
       "    </tr>\n",
       "  </tbody>\n",
       "</table>\n",
       "<p>26708 rows × 3 columns</p>\n",
       "</div>"
      ],
      "text/plain": [
       "       respondent_id  seasonal_vaccine  xyz_vaccine\n",
       "0              26707          0.175622     0.185586\n",
       "1              26708          0.127380     0.182816\n",
       "2              26709          0.836426     0.188581\n",
       "3              26710          0.794434     0.186252\n",
       "4              26711          0.644058     0.432058\n",
       "...              ...               ...          ...\n",
       "26703          53410          0.203209     0.185839\n",
       "26704          53411          0.402141     0.236717\n",
       "26705          53412          0.219979     0.185077\n",
       "26706          53413          0.483645     0.178579\n",
       "26707          53414          0.766149     0.188031\n",
       "\n",
       "[26708 rows x 3 columns]"
      ]
     },
     "execution_count": 18,
     "metadata": {},
     "output_type": "execute_result"
    }
   ],
   "source": [
    "df"
   ]
  },
  {
   "cell_type": "code",
   "execution_count": null,
   "id": "4a238180",
   "metadata": {},
   "outputs": [],
   "source": []
  }
 ],
 "metadata": {
  "kernelspec": {
   "display_name": "Python 3 (ipykernel)",
   "language": "python",
   "name": "python3"
  },
  "language_info": {
   "codemirror_mode": {
    "name": "ipython",
    "version": 3
   },
   "file_extension": ".py",
   "mimetype": "text/x-python",
   "name": "python",
   "nbconvert_exporter": "python",
   "pygments_lexer": "ipython3",
   "version": "3.11.5"
  }
 },
 "nbformat": 4,
 "nbformat_minor": 5
}
